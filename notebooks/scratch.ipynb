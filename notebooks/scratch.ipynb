{
 "cells": [
  {
   "cell_type": "code",
   "execution_count": 1,
   "id": "fdba4c66-4801-4780-993c-a6cb8bf11361",
   "metadata": {},
   "outputs": [
    {
     "name": "stdout",
     "output_type": "stream",
     "text": [
      "%pylab is deprecated, use %matplotlib inline and import the required libraries.\n",
      "Populating the interactive namespace from numpy and matplotlib\n"
     ]
    }
   ],
   "source": [
    "%pylab inline"
   ]
  },
  {
   "cell_type": "code",
   "execution_count": 60,
   "id": "654d4a7d-7bf7-414f-8c46-c2ef9544c9ae",
   "metadata": {},
   "outputs": [],
   "source": [
    "from functools import reduce\n",
    "import operator"
   ]
  },
  {
   "cell_type": "code",
   "execution_count": 79,
   "id": "8dbdeba5-f313-4ded-8a5e-887aa2fe8a14",
   "metadata": {},
   "outputs": [],
   "source": [
    "def array_to_pos_center_coordinates(X):\n",
    "    coordinates_nonzero = np.nonzero(X > 0)\n",
    "\n",
    "    # nonzero gives ([x, x, x], [y, y, y]), stack to get (x, y), (x, y), (x, y)\n",
    "    return zip(*coordinates_nonzero)"
   ]
  },
  {
   "cell_type": "code",
   "execution_count": 187,
   "id": "0878a376-8a2c-41e3-87f6-7fb23534a08c",
   "metadata": {},
   "outputs": [],
   "source": [
    "x = np.zeros((11, 11), dtype=int)\n",
    "x[0, 10] = 1\n",
    "x[10, 0] = 1"
   ]
  },
  {
   "cell_type": "code",
   "execution_count": 180,
   "id": "2d350d9a-81a3-48e9-85fd-1aa7a3beca58",
   "metadata": {},
   "outputs": [
    {
     "data": {
      "image/png": "[encoded data removed]",
      "text/plain": [
       "<Figure size 640x480 with 1 Axes>"
      ]
     },
     "metadata": {},
     "output_type": "display_data"
    }
   ],
   "source": [
    "fig, ax = plt.subplots()\n",
    "ax.matshow(x)\n",
    "\n",
    "display()"
   ]
  },
  {
   "cell_type": "code",
   "execution_count": 181,
   "id": "7df15229-ecbe-472f-bacf-c2ff37f9762d",
   "metadata": {},
   "outputs": [],
   "source": [
    "def manhattan_neighborhood(coor, radius, prune_wraparound=True, size=(11, 11)): # SIZE IS HEIGHT, WIDTH\n",
    "    x, y = coor\n",
    "    \n",
    "    neighborhood = set()\n",
    "    \n",
    "    for d_x in range(0, radius + 1):\n",
    "        for d_y in range(0, radius + 1):\n",
    "            if radius >= d_x + d_y > 0: # > 0 excludes center\n",
    "                neighborhood.update(\n",
    "                    [\n",
    "                        (x + d_x, y + d_y),\n",
    "                        (x - d_x, y + d_y),\n",
    "                        (x + d_x, y - d_y),\n",
    "                        (x - d_x, y - d_y),\n",
    "                    ]\n",
    "                )\n",
    "\n",
    "    if prune_wraparound:\n",
    "        # Bounds subtract 1 because of zero indexing\n",
    "        x_max, y_max = size[0] - 1, size[1] - 1\n",
    "        return {\n",
    "            (x, y) for (x, y) in neighborhood if (0 <= x <= x_max) & (0 <= y <= y_max)\n",
    "        }\n",
    "\n",
    "    return neighborhood\n"
   ]
  },
  {
   "cell_type": "code",
   "execution_count": 182,
   "id": "43c91e21-6132-4909-9d09-c61afb33bfd0",
   "metadata": {},
   "outputs": [
    {
     "data": {
      "text/plain": [
       "{(0, 3), (0, 4), (0, 6), (0, 7), (1, 4), (1, 5), (1, 6), (2, 5)}"
      ]
     },
     "execution_count": 182,
     "metadata": {},
     "output_type": "execute_result"
    }
   ],
   "source": [
    "manhattan_neighborhood((0, 5), 2, prune_wraparound=True)"
   ]
  },
  {
   "cell_type": "code",
   "execution_count": 176,
   "id": "8f97f3e2-dcb9-43bd-b1d7-bf38b6ae3017",
   "metadata": {},
   "outputs": [
    {
     "data": {
      "text/plain": [
       "{(7, 0), (8, 0), (8, 1), (9, 0), (9, 1), (9, 2), (10, 1), (10, 2), (10, 3)}"
      ]
     },
     "execution_count": 176,
     "metadata": {},
     "output_type": "execute_result"
    }
   ],
   "source": [
    "manhattan_neighborhood((10, 0), 3, prune_wraparound=True)"
   ]
  },
  {
   "cell_type": "code",
   "execution_count": 183,
   "id": "5a27c00f-78a9-4854-bc3d-f5dd95e0e3fa",
   "metadata": {},
   "outputs": [],
   "source": [
    "def count_positive_neighborhood_size(X, radius):\n",
    "    positive_centers = list(array_to_pos_center_coordinates(X))\n",
    "\n",
    "    all_neighbors = reduce(\n",
    "        operator.or_, # or_ for Sets is union\n",
    "        [\n",
    "            manhattan_neighborhood(center, radius, size=X.shape)\n",
    "            for center in positive_centers\n",
    "        ]\n",
    "    )\n",
    "\n",
    "    all_neighbors.update(positive_centers)\n",
    "\n",
    "    return len(all_neighbors)"
   ]
  },
  {
   "cell_type": "code",
   "execution_count": 184,
   "id": "0bc93247-59c0-4f03-b313-a0afec940fe2",
   "metadata": {},
   "outputs": [],
   "source": [
    "def plot_point_with_mask(\n",
    "    coors,\n",
    "    neighborhood,\n",
    "    dim=(11, 11),\n",
    "):\n",
    "    arr = np.zeros(dim)\n",
    "    for coor in coors:\n",
    "        arr[coor] = 1\n",
    "\n",
    "    for neighbor in neighborhood:\n",
    "        arr[neighbor] = 0.5\n",
    "\n",
    "    fig, ax = plt.subplots()\n",
    "    ax.matshow(arr)\n",
    "\n",
    "    ax.set_xticks(np.arange(dim[0]) + 0.5)\n",
    "    ax.set_yticks(np.arange(dim[1]) + 0.5)\n",
    "\n",
    "    ax.set_xticklabels(\n",
    "        [str(x) for x in np.arange(dim[0])]\n",
    "    )\n",
    "\n",
    "    ax.set_yticklabels(\n",
    "        [str(y) for y in np.arange(dim[1])]\n",
    "    )\n",
    "\n",
    "    ax.scatter(\n",
    "        [c[1] for c in coors],\n",
    "        [c[0] for c in coors],\n",
    "        marker='.',\n",
    "        color=\"red\",\n",
    "    )\n",
    "    ax.grid()\n",
    "    \n",
    "    display()"
   ]
  },
  {
   "cell_type": "code",
   "execution_count": 197,
   "id": "696359d5-ebeb-4bdd-af16-d085a41af3e3",
   "metadata": {},
   "outputs": [
    {
     "data": {
      "image/png": "[encoded data removed]",
      "text/plain": [
       "<Figure size 640x480 with 1 Axes>"
      ]
     },
     "metadata": {},
     "output_type": "display_data"
    }
   ],
   "source": [
    "pt = [\n",
    "    (0, 5),\n",
    "]\n",
    "\n",
    "HEIGHT, WIDTH = 1, 21\n",
    "\n",
    "plot_point_with_mask(\n",
    "    pt,\n",
    "    reduce(operator.or_, [manhattan_neighborhood(p, 3, size=(HEIGHT, WIDTH)) for p in pt]),\n",
    "    dim=(HEIGHT, WIDTH),\n",
    ")"
   ]
  },
  {
   "cell_type": "code",
   "execution_count": 161,
   "id": "adcf90f5-6b6e-4246-b09b-f7c35cf560cc",
   "metadata": {},
   "outputs": [
    {
     "data": {
      "image/png": "[encoded data removed]",
      "text/plain": [
       "<Figure size 640x480 with 1 Axes>"
      ]
     },
     "metadata": {},
     "output_type": "display_data"
    }
   ],
   "source": [
    "plot_point_with_mask(\n",
    "    [(5, 5), (5, 6)],\n",
    "    manhattan_neighborhood((5, 5), 2) | manhattan_neighborhood((5, 6), 2)\n",
    ")"
   ]
  },
  {
   "cell_type": "code",
   "execution_count": 105,
   "id": "d7035f24-7dc2-4f10-9969-6c5f5933aa39",
   "metadata": {},
   "outputs": [
    {
     "data": {
      "text/plain": [
       "{1, 2, 3, 5}"
      ]
     },
     "execution_count": 105,
     "metadata": {},
     "output_type": "execute_result"
    }
   ],
   "source": [
    "set([1, 2, 3]) | set([2, 3, 5])"
   ]
  },
  {
   "cell_type": "code",
   "execution_count": 188,
   "id": "15224a2a-7020-4be5-879d-57742246848d",
   "metadata": {},
   "outputs": [
    {
     "data": {
      "text/plain": [
       "20"
      ]
     },
     "execution_count": 188,
     "metadata": {},
     "output_type": "execute_result"
    }
   ],
   "source": [
    "count_positive_neighborhood_size(x, 3)"
   ]
  },
  {
   "cell_type": "code",
   "execution_count": 201,
   "id": "49973e34-5035-4bb6-8db9-a131469ff4df",
   "metadata": {},
   "outputs": [],
   "source": [
    "from itertools import combinations, islice, product"
   ]
  },
  {
   "cell_type": "code",
   "execution_count": 205,
   "id": "b6f934da-2cdc-4358-b234-6ef485c40360",
   "metadata": {},
   "outputs": [
    {
     "data": {
      "text/plain": [
       "[(range(0, 10),), (range(0, 10),)]"
      ]
     },
     "execution_count": 205,
     "metadata": {},
     "output_type": "execute_result"
    }
   ],
   "source": [
    "list(islice(\n",
    "    product((range(10), range(10))),\n",
    "    5\n",
    "))"
   ]
  },
  {
   "cell_type": "code",
   "execution_count": 209,
   "id": "f0b041ca-eb70-4b9b-88ac-c1dc792bd0bc",
   "metadata": {},
   "outputs": [],
   "source": [
    "l = combinations(\n",
    "    range(10),\n",
    "    2\n",
    ")"
   ]
  },
  {
   "cell_type": "code",
   "execution_count": 210,
   "id": "d8b41e3f-35f4-46c3-96ac-5a5867049851",
   "metadata": {},
   "outputs": [
    {
     "data": {
      "text/plain": [
       "[(0, 1),\n",
       " (0, 2),\n",
       " (0, 3),\n",
       " (0, 4),\n",
       " (0, 5),\n",
       " (0, 6),\n",
       " (0, 7),\n",
       " (0, 8),\n",
       " (0, 9),\n",
       " (1, 2),\n",
       " (1, 3),\n",
       " (1, 4),\n",
       " (1, 5),\n",
       " (1, 6),\n",
       " (1, 7),\n",
       " (1, 8),\n",
       " (1, 9),\n",
       " (2, 3),\n",
       " (2, 4),\n",
       " (2, 5),\n",
       " (2, 6),\n",
       " (2, 7),\n",
       " (2, 8),\n",
       " (2, 9),\n",
       " (3, 4),\n",
       " (3, 5),\n",
       " (3, 6),\n",
       " (3, 7),\n",
       " (3, 8),\n",
       " (3, 9),\n",
       " (4, 5),\n",
       " (4, 6),\n",
       " (4, 7),\n",
       " (4, 8),\n",
       " (4, 9),\n",
       " (5, 6),\n",
       " (5, 7),\n",
       " (5, 8),\n",
       " (5, 9),\n",
       " (6, 7),\n",
       " (6, 8),\n",
       " (6, 9),\n",
       " (7, 8),\n",
       " (7, 9),\n",
       " (8, 9)]"
      ]
     },
     "execution_count": 210,
     "metadata": {},
     "output_type": "execute_result"
    }
   ],
   "source": [
    "list(l)"
   ]
  },
  {
   "cell_type": "code",
   "execution_count": null,
   "id": "a009b640-c0f9-4a3e-85db-e25fccaa7e44",
   "metadata": {},
   "outputs": [],
   "source": []
  }
 ],
 "metadata": {
  "kernelspec": {
   "display_name": "Python 3 (ipykernel)",
   "language": "python",
   "name": "python3"
  },
  "language_info": {
   "codemirror_mode": {
    "name": "ipython",
    "version": 3
   },
   "file_extension": ".py",
   "mimetype": "text/x-python",
   "name": "python",
   "nbconvert_exporter": "python",
   "pygments_lexer": "ipython3",
   "version": "3.11.8"
  }
 },
 "nbformat": 4,
 "nbformat_minor": 5
}
